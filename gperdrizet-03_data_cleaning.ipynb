{
 "cells": [
  {
   "cell_type": "markdown",
   "metadata": {},
   "source": [
    "# AirBnB data cleaning\n",
    "\n",
    "## Notebook set-up\n",
    "\n",
    "Assume we are preparing this data for a linear regression model."
   ]
  },
  {
   "cell_type": "code",
   "execution_count": 1,
   "metadata": {},
   "outputs": [],
   "source": [
    "# PyPI imports\n",
    "import numpy as np\n",
    "import pandas as pd\n",
    "import matplotlib.pyplot as plt\n",
    "import seaborn as sns\n",
    "from scipy.stats import kruskal\n",
    "from statsmodels.stats.multicomp import pairwise_tukeyhsd\n",
    "from sklearn.preprocessing import LabelEncoder, OneHotEncoder\n",
    "from sklearn.impute import SimpleImputer, KNNImputer\n",
    "from sklearn.linear_model import LinearRegression\n",
    "from sklearn.ensemble import HistGradientBoostingRegressor\n",
    "\n",
    "import gperdrizet_functions as funcs\n",
    "\n",
    "pd.set_option('display.max_rows', 500)"
   ]
  },
  {
   "cell_type": "markdown",
   "metadata": {},
   "source": [
    "## 1. Data loading"
   ]
  },
  {
   "cell_type": "code",
   "execution_count": 2,
   "metadata": {},
   "outputs": [
    {
     "name": "stdout",
     "output_type": "stream",
     "text": [
      "<class 'pandas.core.frame.DataFrame'>\n",
      "RangeIndex: 48895 entries, 0 to 48894\n",
      "Data columns (total 16 columns):\n",
      " #   Column                          Non-Null Count  Dtype  \n",
      "---  ------                          --------------  -----  \n",
      " 0   id                              48895 non-null  int64  \n",
      " 1   name                            48879 non-null  object \n",
      " 2   host_id                         48895 non-null  int64  \n",
      " 3   host_name                       48874 non-null  object \n",
      " 4   neighbourhood_group             48895 non-null  object \n",
      " 5   neighbourhood                   48895 non-null  object \n",
      " 6   latitude                        48895 non-null  float64\n",
      " 7   longitude                       48895 non-null  float64\n",
      " 8   room_type                       48895 non-null  object \n",
      " 9   price                           48895 non-null  int64  \n",
      " 10  minimum_nights                  48895 non-null  int64  \n",
      " 11  number_of_reviews               48895 non-null  int64  \n",
      " 12  last_review                     38843 non-null  object \n",
      " 13  reviews_per_month               38843 non-null  float64\n",
      " 14  calculated_host_listings_count  48895 non-null  int64  \n",
      " 15  availability_365                48895 non-null  int64  \n",
      "dtypes: float64(3), int64(7), object(6)\n",
      "memory usage: 6.0+ MB\n"
     ]
    }
   ],
   "source": [
    "data_df=pd.read_csv('https://raw.githubusercontent.com/4GeeksAcademy/data-preprocessing-project-tutorial/main/AB_NYC_2019.csv')\n",
    "data_df.info()"
   ]
  },
  {
   "cell_type": "markdown",
   "metadata": {},
   "source": [
    "## 2. Feature selection"
   ]
  },
  {
   "cell_type": "code",
   "execution_count": 3,
   "metadata": {},
   "outputs": [],
   "source": [
    "label='price'\n",
    "\n",
    "features=[\n",
    "    'latitude',\n",
    "    'longitude',\n",
    "    'minimum_nights',\n",
    "    'number_of_reviews',\n",
    "    'reviews_per_month',\n",
    "    'calculated_host_listings_count',\n",
    "    'availability_365',\n",
    "    'neighbourhood_group',\n",
    "    'room_type'\n",
    "]\n",
    "\n",
    "numerical_features=[\n",
    "    'price',\n",
    "    'latitude',\n",
    "    'longitude',\n",
    "    'minimum_nights',\n",
    "    'number_of_reviews',\n",
    "    'reviews_per_month',\n",
    "    'calculated_host_listings_count',\n",
    "    'availability_365'\n",
    "]\n",
    "\n",
    "categorical_features=['neighbourhood_group','room_type']\n",
    "\n",
    "data_df=data_df[numerical_features + categorical_features].copy()"
   ]
  },
  {
   "cell_type": "markdown",
   "metadata": {},
   "source": [
    "## 3. Feature encoding"
   ]
  },
  {
   "cell_type": "code",
   "execution_count": 4,
   "metadata": {},
   "outputs": [],
   "source": [
    "encoding_datasets={}"
   ]
  },
  {
   "cell_type": "markdown",
   "metadata": {},
   "source": [
    "### 3.1. Label encoding"
   ]
  },
  {
   "cell_type": "code",
   "execution_count": 5,
   "metadata": {},
   "outputs": [
    {
     "data": {
      "text/html": [
       "<div>\n",
       "<style scoped>\n",
       "    .dataframe tbody tr th:only-of-type {\n",
       "        vertical-align: middle;\n",
       "    }\n",
       "\n",
       "    .dataframe tbody tr th {\n",
       "        vertical-align: top;\n",
       "    }\n",
       "\n",
       "    .dataframe thead th {\n",
       "        text-align: right;\n",
       "    }\n",
       "</style>\n",
       "<table border=\"1\" class=\"dataframe\">\n",
       "  <thead>\n",
       "    <tr style=\"text-align: right;\">\n",
       "      <th></th>\n",
       "      <th>0</th>\n",
       "      <th>1</th>\n",
       "      <th>2</th>\n",
       "      <th>3</th>\n",
       "      <th>4</th>\n",
       "    </tr>\n",
       "  </thead>\n",
       "  <tbody>\n",
       "    <tr>\n",
       "      <th>price</th>\n",
       "      <td>149.00000</td>\n",
       "      <td>225.00000</td>\n",
       "      <td>150.00000</td>\n",
       "      <td>89.00000</td>\n",
       "      <td>80.00000</td>\n",
       "    </tr>\n",
       "    <tr>\n",
       "      <th>latitude</th>\n",
       "      <td>40.64749</td>\n",
       "      <td>40.75362</td>\n",
       "      <td>40.80902</td>\n",
       "      <td>40.68514</td>\n",
       "      <td>40.79851</td>\n",
       "    </tr>\n",
       "    <tr>\n",
       "      <th>longitude</th>\n",
       "      <td>-73.97237</td>\n",
       "      <td>-73.98377</td>\n",
       "      <td>-73.94190</td>\n",
       "      <td>-73.95976</td>\n",
       "      <td>-73.94399</td>\n",
       "    </tr>\n",
       "    <tr>\n",
       "      <th>minimum_nights</th>\n",
       "      <td>1.00000</td>\n",
       "      <td>1.00000</td>\n",
       "      <td>3.00000</td>\n",
       "      <td>1.00000</td>\n",
       "      <td>10.00000</td>\n",
       "    </tr>\n",
       "    <tr>\n",
       "      <th>number_of_reviews</th>\n",
       "      <td>9.00000</td>\n",
       "      <td>45.00000</td>\n",
       "      <td>0.00000</td>\n",
       "      <td>270.00000</td>\n",
       "      <td>9.00000</td>\n",
       "    </tr>\n",
       "    <tr>\n",
       "      <th>reviews_per_month</th>\n",
       "      <td>0.21000</td>\n",
       "      <td>0.38000</td>\n",
       "      <td>NaN</td>\n",
       "      <td>4.64000</td>\n",
       "      <td>0.10000</td>\n",
       "    </tr>\n",
       "    <tr>\n",
       "      <th>calculated_host_listings_count</th>\n",
       "      <td>6.00000</td>\n",
       "      <td>2.00000</td>\n",
       "      <td>1.00000</td>\n",
       "      <td>1.00000</td>\n",
       "      <td>1.00000</td>\n",
       "    </tr>\n",
       "    <tr>\n",
       "      <th>availability_365</th>\n",
       "      <td>365.00000</td>\n",
       "      <td>355.00000</td>\n",
       "      <td>365.00000</td>\n",
       "      <td>194.00000</td>\n",
       "      <td>0.00000</td>\n",
       "    </tr>\n",
       "    <tr>\n",
       "      <th>neighbourhood_group</th>\n",
       "      <td>1.00000</td>\n",
       "      <td>2.00000</td>\n",
       "      <td>2.00000</td>\n",
       "      <td>1.00000</td>\n",
       "      <td>2.00000</td>\n",
       "    </tr>\n",
       "    <tr>\n",
       "      <th>room_type</th>\n",
       "      <td>1.00000</td>\n",
       "      <td>0.00000</td>\n",
       "      <td>1.00000</td>\n",
       "      <td>0.00000</td>\n",
       "      <td>0.00000</td>\n",
       "    </tr>\n",
       "  </tbody>\n",
       "</table>\n",
       "</div>"
      ],
      "text/plain": [
       "                                        0          1          2          3  \\\n",
       "price                           149.00000  225.00000  150.00000   89.00000   \n",
       "latitude                         40.64749   40.75362   40.80902   40.68514   \n",
       "longitude                       -73.97237  -73.98377  -73.94190  -73.95976   \n",
       "minimum_nights                    1.00000    1.00000    3.00000    1.00000   \n",
       "number_of_reviews                 9.00000   45.00000    0.00000  270.00000   \n",
       "reviews_per_month                 0.21000    0.38000        NaN    4.64000   \n",
       "calculated_host_listings_count    6.00000    2.00000    1.00000    1.00000   \n",
       "availability_365                365.00000  355.00000  365.00000  194.00000   \n",
       "neighbourhood_group               1.00000    2.00000    2.00000    1.00000   \n",
       "room_type                         1.00000    0.00000    1.00000    0.00000   \n",
       "\n",
       "                                       4  \n",
       "price                           80.00000  \n",
       "latitude                        40.79851  \n",
       "longitude                      -73.94399  \n",
       "minimum_nights                  10.00000  \n",
       "number_of_reviews                9.00000  \n",
       "reviews_per_month                0.10000  \n",
       "calculated_host_listings_count   1.00000  \n",
       "availability_365                 0.00000  \n",
       "neighbourhood_group              2.00000  \n",
       "room_type                        0.00000  "
      ]
     },
     "execution_count": 5,
     "metadata": {},
     "output_type": "execute_result"
    }
   ],
   "source": [
    "label_encoders={}\n",
    "label_encoded_data_df=data_df.copy()\n",
    "\n",
    "for feature in categorical_features:\n",
    "    label_encoder=LabelEncoder()\n",
    "    label_encoded_data_df[feature]=label_encoder.fit_transform(label_encoded_data_df[feature])\n",
    "    label_encoders[feature]=label_encoder\n",
    "\n",
    "encoding_datasets['Label encoded']=label_encoded_data_df\n",
    "\n",
    "label_encoded_data_df.head().transpose()"
   ]
  },
  {
   "cell_type": "markdown",
   "metadata": {},
   "source": [
    "### 3.2. One-hot encoding"
   ]
  },
  {
   "cell_type": "code",
   "execution_count": 6,
   "metadata": {},
   "outputs": [
    {
     "data": {
      "text/html": [
       "<div>\n",
       "<style scoped>\n",
       "    .dataframe tbody tr th:only-of-type {\n",
       "        vertical-align: middle;\n",
       "    }\n",
       "\n",
       "    .dataframe tbody tr th {\n",
       "        vertical-align: top;\n",
       "    }\n",
       "\n",
       "    .dataframe thead th {\n",
       "        text-align: right;\n",
       "    }\n",
       "</style>\n",
       "<table border=\"1\" class=\"dataframe\">\n",
       "  <thead>\n",
       "    <tr style=\"text-align: right;\">\n",
       "      <th></th>\n",
       "      <th>0</th>\n",
       "      <th>1</th>\n",
       "      <th>2</th>\n",
       "      <th>3</th>\n",
       "      <th>4</th>\n",
       "    </tr>\n",
       "  </thead>\n",
       "  <tbody>\n",
       "    <tr>\n",
       "      <th>neighbourhood_group_Bronx</th>\n",
       "      <td>0.00000</td>\n",
       "      <td>0.00000</td>\n",
       "      <td>0.00000</td>\n",
       "      <td>0.00000</td>\n",
       "      <td>0.00000</td>\n",
       "    </tr>\n",
       "    <tr>\n",
       "      <th>neighbourhood_group_Brooklyn</th>\n",
       "      <td>1.00000</td>\n",
       "      <td>0.00000</td>\n",
       "      <td>0.00000</td>\n",
       "      <td>1.00000</td>\n",
       "      <td>0.00000</td>\n",
       "    </tr>\n",
       "    <tr>\n",
       "      <th>neighbourhood_group_Manhattan</th>\n",
       "      <td>0.00000</td>\n",
       "      <td>1.00000</td>\n",
       "      <td>1.00000</td>\n",
       "      <td>0.00000</td>\n",
       "      <td>1.00000</td>\n",
       "    </tr>\n",
       "    <tr>\n",
       "      <th>neighbourhood_group_Queens</th>\n",
       "      <td>0.00000</td>\n",
       "      <td>0.00000</td>\n",
       "      <td>0.00000</td>\n",
       "      <td>0.00000</td>\n",
       "      <td>0.00000</td>\n",
       "    </tr>\n",
       "    <tr>\n",
       "      <th>neighbourhood_group_Staten Island</th>\n",
       "      <td>0.00000</td>\n",
       "      <td>0.00000</td>\n",
       "      <td>0.00000</td>\n",
       "      <td>0.00000</td>\n",
       "      <td>0.00000</td>\n",
       "    </tr>\n",
       "    <tr>\n",
       "      <th>room_type_Entire home/apt</th>\n",
       "      <td>0.00000</td>\n",
       "      <td>1.00000</td>\n",
       "      <td>0.00000</td>\n",
       "      <td>1.00000</td>\n",
       "      <td>1.00000</td>\n",
       "    </tr>\n",
       "    <tr>\n",
       "      <th>room_type_Private room</th>\n",
       "      <td>1.00000</td>\n",
       "      <td>0.00000</td>\n",
       "      <td>1.00000</td>\n",
       "      <td>0.00000</td>\n",
       "      <td>0.00000</td>\n",
       "    </tr>\n",
       "    <tr>\n",
       "      <th>room_type_Shared room</th>\n",
       "      <td>0.00000</td>\n",
       "      <td>0.00000</td>\n",
       "      <td>0.00000</td>\n",
       "      <td>0.00000</td>\n",
       "      <td>0.00000</td>\n",
       "    </tr>\n",
       "    <tr>\n",
       "      <th>price</th>\n",
       "      <td>149.00000</td>\n",
       "      <td>225.00000</td>\n",
       "      <td>150.00000</td>\n",
       "      <td>89.00000</td>\n",
       "      <td>80.00000</td>\n",
       "    </tr>\n",
       "    <tr>\n",
       "      <th>latitude</th>\n",
       "      <td>40.64749</td>\n",
       "      <td>40.75362</td>\n",
       "      <td>40.80902</td>\n",
       "      <td>40.68514</td>\n",
       "      <td>40.79851</td>\n",
       "    </tr>\n",
       "    <tr>\n",
       "      <th>longitude</th>\n",
       "      <td>-73.97237</td>\n",
       "      <td>-73.98377</td>\n",
       "      <td>-73.94190</td>\n",
       "      <td>-73.95976</td>\n",
       "      <td>-73.94399</td>\n",
       "    </tr>\n",
       "    <tr>\n",
       "      <th>minimum_nights</th>\n",
       "      <td>1.00000</td>\n",
       "      <td>1.00000</td>\n",
       "      <td>3.00000</td>\n",
       "      <td>1.00000</td>\n",
       "      <td>10.00000</td>\n",
       "    </tr>\n",
       "    <tr>\n",
       "      <th>number_of_reviews</th>\n",
       "      <td>9.00000</td>\n",
       "      <td>45.00000</td>\n",
       "      <td>0.00000</td>\n",
       "      <td>270.00000</td>\n",
       "      <td>9.00000</td>\n",
       "    </tr>\n",
       "    <tr>\n",
       "      <th>reviews_per_month</th>\n",
       "      <td>0.21000</td>\n",
       "      <td>0.38000</td>\n",
       "      <td>NaN</td>\n",
       "      <td>4.64000</td>\n",
       "      <td>0.10000</td>\n",
       "    </tr>\n",
       "    <tr>\n",
       "      <th>calculated_host_listings_count</th>\n",
       "      <td>6.00000</td>\n",
       "      <td>2.00000</td>\n",
       "      <td>1.00000</td>\n",
       "      <td>1.00000</td>\n",
       "      <td>1.00000</td>\n",
       "    </tr>\n",
       "    <tr>\n",
       "      <th>availability_365</th>\n",
       "      <td>365.00000</td>\n",
       "      <td>355.00000</td>\n",
       "      <td>365.00000</td>\n",
       "      <td>194.00000</td>\n",
       "      <td>0.00000</td>\n",
       "    </tr>\n",
       "  </tbody>\n",
       "</table>\n",
       "</div>"
      ],
      "text/plain": [
       "                                           0          1          2          3  \\\n",
       "neighbourhood_group_Bronx            0.00000    0.00000    0.00000    0.00000   \n",
       "neighbourhood_group_Brooklyn         1.00000    0.00000    0.00000    1.00000   \n",
       "neighbourhood_group_Manhattan        0.00000    1.00000    1.00000    0.00000   \n",
       "neighbourhood_group_Queens           0.00000    0.00000    0.00000    0.00000   \n",
       "neighbourhood_group_Staten Island    0.00000    0.00000    0.00000    0.00000   \n",
       "room_type_Entire home/apt            0.00000    1.00000    0.00000    1.00000   \n",
       "room_type_Private room               1.00000    0.00000    1.00000    0.00000   \n",
       "room_type_Shared room                0.00000    0.00000    0.00000    0.00000   \n",
       "price                              149.00000  225.00000  150.00000   89.00000   \n",
       "latitude                            40.64749   40.75362   40.80902   40.68514   \n",
       "longitude                          -73.97237  -73.98377  -73.94190  -73.95976   \n",
       "minimum_nights                       1.00000    1.00000    3.00000    1.00000   \n",
       "number_of_reviews                    9.00000   45.00000    0.00000  270.00000   \n",
       "reviews_per_month                    0.21000    0.38000        NaN    4.64000   \n",
       "calculated_host_listings_count       6.00000    2.00000    1.00000    1.00000   \n",
       "availability_365                   365.00000  355.00000  365.00000  194.00000   \n",
       "\n",
       "                                          4  \n",
       "neighbourhood_group_Bronx           0.00000  \n",
       "neighbourhood_group_Brooklyn        0.00000  \n",
       "neighbourhood_group_Manhattan       1.00000  \n",
       "neighbourhood_group_Queens          0.00000  \n",
       "neighbourhood_group_Staten Island   0.00000  \n",
       "room_type_Entire home/apt           1.00000  \n",
       "room_type_Private room              0.00000  \n",
       "room_type_Shared room               0.00000  \n",
       "price                              80.00000  \n",
       "latitude                           40.79851  \n",
       "longitude                         -73.94399  \n",
       "minimum_nights                     10.00000  \n",
       "number_of_reviews                   9.00000  \n",
       "reviews_per_month                   0.10000  \n",
       "calculated_host_listings_count      1.00000  \n",
       "availability_365                    0.00000  "
      ]
     },
     "execution_count": 6,
     "metadata": {},
     "output_type": "execute_result"
    }
   ],
   "source": [
    "one_hot_encoder=OneHotEncoder(sparse_output=False)\n",
    "one_hot_encoded_data=one_hot_encoder.fit_transform(data_df[categorical_features])\n",
    "one_hot_encoded_data_df=pd.DataFrame(one_hot_encoded_data, columns=one_hot_encoder.get_feature_names_out())\n",
    "one_hot_encoded_data_df=pd.concat([one_hot_encoded_data_df, data_df[numerical_features]], axis=1)\n",
    "encoding_datasets['One-hot encoded']=one_hot_encoded_data_df\n",
    "\n",
    "one_hot_encoded_data_df.head().transpose()"
   ]
  },
  {
   "cell_type": "markdown",
   "metadata": {},
   "source": [
    "### 3.3. Results\n",
    "\n",
    "### 3.3.1. Linear model"
   ]
  },
  {
   "cell_type": "code",
   "execution_count": 7,
   "metadata": {},
   "outputs": [
    {
     "name": "stdout",
     "output_type": "stream",
     "text": [
      "Kruskal-Wallis p-value: 0.595\n",
      "\n"
     ]
    }
   ],
   "source": [
    "linear_results_df=funcs.test_features(LinearRegression(), encoding_datasets, label, scoring='neg_root_mean_squared_error')\n",
    "\n",
    "data=[list(x) for _, x in linear_results_df.groupby('Feature set')['Score']]\n",
    "labels=[[x]*len(y) for x, y in linear_results_df.groupby('Feature set')['Score']]\n",
    "results=kruskal(*data)\n",
    "print(f'Kruskal-Wallis p-value: {results.pvalue:.3f}\\n')\n",
    "\n",
    "linear_result=pairwise_tukeyhsd(np.concatenate(data), np.concatenate(labels), alpha=0.05)"
   ]
  },
  {
   "cell_type": "markdown",
   "metadata": {},
   "source": [
    "### 3.3.2. Tree model"
   ]
  },
  {
   "cell_type": "code",
   "execution_count": 8,
   "metadata": {},
   "outputs": [
    {
     "name": "stdout",
     "output_type": "stream",
     "text": [
      "Kruskal-Wallis p-value: 0.953\n",
      "\n"
     ]
    }
   ],
   "source": [
    "tree_results_df=funcs.test_features(HistGradientBoostingRegressor(random_state=315), encoding_datasets, label, scoring='neg_root_mean_squared_error')\n",
    "\n",
    "data=[list(x) for _, x in tree_results_df.groupby('Feature set')['Score']]\n",
    "labels=[[x]*len(y) for x, y in tree_results_df.groupby('Feature set')['Score']]\n",
    "results=kruskal(*data)\n",
    "print(f'Kruskal-Wallis p-value: {results.pvalue:.3f}\\n')\n",
    "\n",
    "tree_result=pairwise_tukeyhsd(np.concatenate(data), np.concatenate(labels), alpha=0.05)"
   ]
  },
  {
   "cell_type": "markdown",
   "metadata": {},
   "source": [
    "### 3.3.3. Model comparison"
   ]
  },
  {
   "cell_type": "code",
   "execution_count": 9,
   "metadata": {},
   "outputs": [
    {
     "name": "stdout",
     "output_type": "stream",
     "text": [
      "Linear model:\n",
      "         Multiple Comparison of Means - Tukey HSD, FWER=0.05         \n",
      "=====================================================================\n",
      "    group1         group2     meandiff p-adj   lower    upper  reject\n",
      "---------------------------------------------------------------------\n",
      "Label encoded One-hot encoded  -1.2177 0.8534 -14.3494 11.9139  False\n",
      "---------------------------------------------------------------------\n",
      "\n",
      "Tree model:\n",
      "         Multiple Comparison of Means - Tukey HSD, FWER=0.05         \n",
      "=====================================================================\n",
      "    group1         group2     meandiff p-adj   lower    upper  reject\n",
      "---------------------------------------------------------------------\n",
      "Label encoded One-hot encoded   0.1353 0.9822 -11.9596 12.2303  False\n",
      "---------------------------------------------------------------------\n"
     ]
    },
    {
     "data": {
      "image/png": "[encoded data removed]",
      "text/plain": [
       "<Figure size 1000x500 with 2 Axes>"
      ]
     },
     "metadata": {},
     "output_type": "display_data"
    }
   ],
   "source": [
    "print(f'Linear model:\\n{linear_result}\\n')\n",
    "print(f'Tree model:\\n{tree_result}')\n",
    "\n",
    "fig, axs=plt.subplots(1,2, figsize=(10,5), sharey=True)\n",
    "axs=axs.flatten()\n",
    "\n",
    "fig.suptitle('Categorical data encoding methods')\n",
    "\n",
    "sns.boxplot(linear_results_df, x='Feature set', y='Score', ax=axs[0])\n",
    "axs[0].set_title('Linear model')\n",
    "axs[0].set_xlabel('')\n",
    "axs[0].tick_params(axis='x', labelrotation=45)\n",
    "axs[0].set_ylabel('Root mean squared error')\n",
    "\n",
    "sns.boxplot(tree_results_df, x='Feature set', y='Score', ax=axs[1])\n",
    "axs[1].set_title('Tree model')\n",
    "axs[1].set_xlabel('')\n",
    "axs[1].tick_params(axis='x', labelrotation=45)\n",
    "axs[1].set_ylabel('Root mean squared error')\n",
    "\n",
    "plt.tight_layout()\n",
    "plt.show()"
   ]
  },
  {
   "cell_type": "markdown",
   "metadata": {},
   "source": [
    "## 4. Missing data"
   ]
  },
  {
   "cell_type": "code",
   "execution_count": 10,
   "metadata": {},
   "outputs": [
    {
     "name": "stdout",
     "output_type": "stream",
     "text": [
      "<class 'pandas.core.frame.DataFrame'>\n",
      "RangeIndex: 48895 entries, 0 to 48894\n",
      "Data columns (total 10 columns):\n",
      " #   Column                          Non-Null Count  Dtype  \n",
      "---  ------                          --------------  -----  \n",
      " 0   price                           48895 non-null  int64  \n",
      " 1   latitude                        48895 non-null  float64\n",
      " 2   longitude                       48895 non-null  float64\n",
      " 3   minimum_nights                  48895 non-null  int64  \n",
      " 4   number_of_reviews               48895 non-null  int64  \n",
      " 5   reviews_per_month               38843 non-null  float64\n",
      " 6   calculated_host_listings_count  48895 non-null  int64  \n",
      " 7   availability_365                48895 non-null  int64  \n",
      " 8   neighbourhood_group             48895 non-null  int64  \n",
      " 9   room_type                       48895 non-null  int64  \n",
      "dtypes: float64(3), int64(7)\n",
      "memory usage: 3.7 MB\n"
     ]
    }
   ],
   "source": [
    "nan_cleaned_datasets={}\n",
    "encoded_data_df=label_encoded_data_df.copy()\n",
    "encoded_data_df.info()"
   ]
  },
  {
   "cell_type": "markdown",
   "metadata": {},
   "source": [
    "### 4.1. Drop reviews per month"
   ]
  },
  {
   "cell_type": "code",
   "execution_count": 11,
   "metadata": {},
   "outputs": [],
   "source": [
    "nan_cleaned_datasets['-reviews_per_month']=encoded_data_df.drop('reviews_per_month', axis=1).dropna()"
   ]
  },
  {
   "cell_type": "markdown",
   "metadata": {},
   "source": [
    "### 4.2. Drop NAN rows"
   ]
  },
  {
   "cell_type": "code",
   "execution_count": 12,
   "metadata": {},
   "outputs": [
    {
     "name": "stdout",
     "output_type": "stream",
     "text": [
      "Reviews per month mean: 1.37\n"
     ]
    }
   ],
   "source": [
    "nan_cleaned_datasets['Dropped']=encoded_data_df.dropna()\n",
    "print(f\"Reviews per month mean: {nan_cleaned_datasets['Dropped']['reviews_per_month'].mean():.2f}\")"
   ]
  },
  {
   "cell_type": "markdown",
   "metadata": {},
   "source": [
    "### 4.2. Fill NAN with median"
   ]
  },
  {
   "cell_type": "code",
   "execution_count": 13,
   "metadata": {},
   "outputs": [
    {
     "name": "stdout",
     "output_type": "stream",
     "text": [
      "Reviews per month mean: 1.24\n"
     ]
    }
   ],
   "source": [
    "median_imputer=SimpleImputer(strategy='median')\n",
    "median_imputed_data=median_imputer.fit_transform(encoded_data_df)\n",
    "nan_cleaned_datasets['Median imputed']=pd.DataFrame(median_imputed_data, columns=encoded_data_df.columns)\n",
    "print(f\"Reviews per month mean: {nan_cleaned_datasets['Median imputed']['reviews_per_month'].mean():.2f}\")"
   ]
  },
  {
   "cell_type": "markdown",
   "metadata": {},
   "source": [
    "### 4.3. KNN imputation"
   ]
  },
  {
   "cell_type": "code",
   "execution_count": 14,
   "metadata": {},
   "outputs": [
    {
     "name": "stdout",
     "output_type": "stream",
     "text": [
      "Reviews per month mean: 1.18\n"
     ]
    }
   ],
   "source": [
    "knn_imputer=KNNImputer()\n",
    "knn_imputed_data=knn_imputer.fit_transform(encoded_data_df)\n",
    "nan_cleaned_datasets['KNN imputed']=pd.DataFrame(knn_imputed_data, columns=encoded_data_df.columns)\n",
    "print(f\"Reviews per month mean: {nan_cleaned_datasets['KNN imputed']['reviews_per_month'].mean():.2f}\")"
   ]
  },
  {
   "cell_type": "markdown",
   "metadata": {},
   "source": [
    "### 4.3. Results"
   ]
  },
  {
   "cell_type": "code",
   "execution_count": 15,
   "metadata": {},
   "outputs": [
    {
     "data": {
      "image/png": "[encoded data removed]",
      "text/plain": [
       "<Figure size 640x480 with 1 Axes>"
      ]
     },
     "metadata": {},
     "output_type": "display_data"
    }
   ],
   "source": [
    "strategy=['Dropped']*len(nan_cleaned_datasets['Dropped']['reviews_per_month']) + ['Median imputed']*len(nan_cleaned_datasets['Median imputed']['reviews_per_month']) + ['KNN imputed']*len(nan_cleaned_datasets['KNN imputed']['reviews_per_month'])\n",
    "reviews_per_month=nan_cleaned_datasets['Dropped']['reviews_per_month'].to_list() + nan_cleaned_datasets['Median imputed']['reviews_per_month'].to_list() + nan_cleaned_datasets['KNN imputed']['reviews_per_month'].to_list()\n",
    "\n",
    "reviews_per_month_df=pd.DataFrame.from_dict(\n",
    "    {\n",
    "        'Strategy':strategy,\n",
    "        'Reviews per month':reviews_per_month\n",
    "    }\n",
    ")\n",
    "\n",
    "sns.boxplot(reviews_per_month_df, x='Strategy', y='Reviews per month', log_scale=True)\n",
    "plt.title('Missing data handling strategies: reviews per month')\n",
    "plt.xlabel('')\n",
    "plt.show()"
   ]
  },
  {
   "cell_type": "markdown",
   "metadata": {},
   "source": [
    "#### 4.3.1. Linear model"
   ]
  },
  {
   "cell_type": "code",
   "execution_count": 16,
   "metadata": {},
   "outputs": [
    {
     "name": "stdout",
     "output_type": "stream",
     "text": [
      "Kruskal-Wallis p-value: 0.000\n",
      "\n"
     ]
    }
   ],
   "source": [
    "linear_results_df=funcs.test_features(LinearRegression(), nan_cleaned_datasets, label, scoring='neg_root_mean_squared_error')\n",
    "\n",
    "data=[list(x) for _, x in linear_results_df.groupby('Feature set')['Score']]\n",
    "labels=[[x]*len(y) for x, y in linear_results_df.groupby('Feature set')['Score']]\n",
    "results=kruskal(*data)\n",
    "print(f'Kruskal-Wallis p-value: {results.pvalue:.3f}\\n')\n",
    "\n",
    "linear_result=pairwise_tukeyhsd(np.concatenate(data), np.concatenate(labels), alpha=0.05)"
   ]
  },
  {
   "cell_type": "markdown",
   "metadata": {},
   "source": [
    "#### 4.3.2. Tree model"
   ]
  },
  {
   "cell_type": "code",
   "execution_count": 17,
   "metadata": {},
   "outputs": [
    {
     "name": "stdout",
     "output_type": "stream",
     "text": [
      "Kruskal-Wallis p-value: 0.000\n",
      "\n"
     ]
    }
   ],
   "source": [
    "tree_results_df=funcs.test_features(HistGradientBoostingRegressor(random_state=315), nan_cleaned_datasets, label, scoring='neg_root_mean_squared_error')\n",
    "\n",
    "data=[list(x) for _, x in linear_results_df.groupby('Feature set')['Score']]\n",
    "labels=[[x]*len(y) for x, y in linear_results_df.groupby('Feature set')['Score']]\n",
    "results=kruskal(*data)\n",
    "print(f'Kruskal-Wallis p-value: {results.pvalue:.3f}\\n')\n",
    "\n",
    "tree_result=pairwise_tukeyhsd(np.concatenate(data), np.concatenate(labels), alpha=0.05)"
   ]
  },
  {
   "cell_type": "markdown",
   "metadata": {},
   "source": [
    "#### 4.3.3. Model comparison"
   ]
  },
  {
   "cell_type": "code",
   "execution_count": 18,
   "metadata": {},
   "outputs": [
    {
     "name": "stdout",
     "output_type": "stream",
     "text": [
      "Linear model:\n",
      "           Multiple Comparison of Means - Tukey HSD, FWER=0.05           \n",
      "=========================================================================\n",
      "      group1           group2     meandiff p-adj  lower    upper   reject\n",
      "-------------------------------------------------------------------------\n",
      "-reviews_per_month        Dropped -46.7857   0.0 -66.2186 -27.3529   True\n",
      "-reviews_per_month    KNN imputed  -0.0029   1.0 -19.4357    19.43  False\n",
      "-reviews_per_month Median imputed   0.0049   1.0 -19.4279  19.4378  False\n",
      "           Dropped    KNN imputed  46.7829   0.0    27.35  66.2158   True\n",
      "           Dropped Median imputed  46.7907   0.0  27.3578  66.2235   True\n",
      "       KNN imputed Median imputed   0.0078   1.0 -19.4251  19.4407  False\n",
      "-------------------------------------------------------------------------\n",
      "\n",
      "Tree model:\n",
      "           Multiple Comparison of Means - Tukey HSD, FWER=0.05           \n",
      "=========================================================================\n",
      "      group1           group2     meandiff p-adj  lower    upper   reject\n",
      "-------------------------------------------------------------------------\n",
      "-reviews_per_month        Dropped -46.7857   0.0 -66.2186 -27.3529   True\n",
      "-reviews_per_month    KNN imputed  -0.0029   1.0 -19.4357    19.43  False\n",
      "-reviews_per_month Median imputed   0.0049   1.0 -19.4279  19.4378  False\n",
      "           Dropped    KNN imputed  46.7829   0.0    27.35  66.2158   True\n",
      "           Dropped Median imputed  46.7907   0.0  27.3578  66.2235   True\n",
      "       KNN imputed Median imputed   0.0078   1.0 -19.4251  19.4407  False\n",
      "-------------------------------------------------------------------------\n"
     ]
    },
    {
     "data": {
      "image/png": "[encoded data removed]",
      "text/plain": [
       "<Figure size 1000x500 with 2 Axes>"
      ]
     },
     "metadata": {},
     "output_type": "display_data"
    }
   ],
   "source": [
    "print(f'Linear model:\\n{linear_result}\\n')\n",
    "print(f'Tree model:\\n{tree_result}')\n",
    "\n",
    "fig, axs=plt.subplots(1,2, figsize=(10,5), sharey=True)\n",
    "axs=axs.flatten()\n",
    "\n",
    "fig.suptitle('Missing value handling methods')\n",
    "\n",
    "sns.boxplot(linear_results_df, x='Feature set', y='Score', ax=axs[0])\n",
    "axs[0].set_title('Linear model')\n",
    "axs[0].set_xlabel('')\n",
    "axs[0].tick_params(axis='x', labelrotation=45)\n",
    "axs[0].set_ylabel('Root mean squared error')\n",
    "\n",
    "sns.boxplot(tree_results_df, x='Feature set', y='Score', ax=axs[1])\n",
    "axs[1].set_title('Tree model')\n",
    "axs[1].set_xlabel('')\n",
    "axs[1].tick_params(axis='x', labelrotation=45)\n",
    "axs[1].set_ylabel('Root mean squared error')\n",
    "\n",
    "plt.tight_layout()\n",
    "plt.show()"
   ]
  },
  {
   "cell_type": "markdown",
   "metadata": {},
   "source": [
    "## 5. Extreme values"
   ]
  },
  {
   "cell_type": "code",
   "execution_count": 19,
   "metadata": {},
   "outputs": [
    {
     "data": {
      "text/html": [
       "<div>\n",
       "<style scoped>\n",
       "    .dataframe tbody tr th:only-of-type {\n",
       "        vertical-align: middle;\n",
       "    }\n",
       "\n",
       "    .dataframe tbody tr th {\n",
       "        vertical-align: top;\n",
       "    }\n",
       "\n",
       "    .dataframe thead th {\n",
       "        text-align: right;\n",
       "    }\n",
       "</style>\n",
       "<table border=\"1\" class=\"dataframe\">\n",
       "  <thead>\n",
       "    <tr style=\"text-align: right;\">\n",
       "      <th></th>\n",
       "      <th>id</th>\n",
       "      <th>host_id</th>\n",
       "      <th>latitude</th>\n",
       "      <th>longitude</th>\n",
       "      <th>price</th>\n",
       "      <th>minimum_nights</th>\n",
       "      <th>number_of_reviews</th>\n",
       "      <th>reviews_per_month</th>\n",
       "      <th>calculated_host_listings_count</th>\n",
       "      <th>availability_365</th>\n",
       "    </tr>\n",
       "  </thead>\n",
       "  <tbody>\n",
       "    <tr>\n",
       "      <th>count</th>\n",
       "      <td>4.889500e+04</td>\n",
       "      <td>4.889500e+04</td>\n",
       "      <td>48895.000000</td>\n",
       "      <td>48895.000000</td>\n",
       "      <td>48895.000000</td>\n",
       "      <td>48895.000000</td>\n",
       "      <td>48895.000000</td>\n",
       "      <td>38843.000000</td>\n",
       "      <td>48895.000000</td>\n",
       "      <td>48895.000000</td>\n",
       "    </tr>\n",
       "    <tr>\n",
       "      <th>mean</th>\n",
       "      <td>1.901714e+07</td>\n",
       "      <td>6.762001e+07</td>\n",
       "      <td>40.728949</td>\n",
       "      <td>-73.952170</td>\n",
       "      <td>152.720687</td>\n",
       "      <td>7.029962</td>\n",
       "      <td>23.274466</td>\n",
       "      <td>1.373221</td>\n",
       "      <td>7.143982</td>\n",
       "      <td>112.781327</td>\n",
       "    </tr>\n",
       "    <tr>\n",
       "      <th>std</th>\n",
       "      <td>1.098311e+07</td>\n",
       "      <td>7.861097e+07</td>\n",
       "      <td>0.054530</td>\n",
       "      <td>0.046157</td>\n",
       "      <td>240.154170</td>\n",
       "      <td>20.510550</td>\n",
       "      <td>44.550582</td>\n",
       "      <td>1.680442</td>\n",
       "      <td>32.952519</td>\n",
       "      <td>131.622289</td>\n",
       "    </tr>\n",
       "    <tr>\n",
       "      <th>min</th>\n",
       "      <td>2.539000e+03</td>\n",
       "      <td>2.438000e+03</td>\n",
       "      <td>40.499790</td>\n",
       "      <td>-74.244420</td>\n",
       "      <td>0.000000</td>\n",
       "      <td>1.000000</td>\n",
       "      <td>0.000000</td>\n",
       "      <td>0.010000</td>\n",
       "      <td>1.000000</td>\n",
       "      <td>0.000000</td>\n",
       "    </tr>\n",
       "    <tr>\n",
       "      <th>25%</th>\n",
       "      <td>9.471945e+06</td>\n",
       "      <td>7.822033e+06</td>\n",
       "      <td>40.690100</td>\n",
       "      <td>-73.983070</td>\n",
       "      <td>69.000000</td>\n",
       "      <td>1.000000</td>\n",
       "      <td>1.000000</td>\n",
       "      <td>0.190000</td>\n",
       "      <td>1.000000</td>\n",
       "      <td>0.000000</td>\n",
       "    </tr>\n",
       "    <tr>\n",
       "      <th>50%</th>\n",
       "      <td>1.967728e+07</td>\n",
       "      <td>3.079382e+07</td>\n",
       "      <td>40.723070</td>\n",
       "      <td>-73.955680</td>\n",
       "      <td>106.000000</td>\n",
       "      <td>3.000000</td>\n",
       "      <td>5.000000</td>\n",
       "      <td>0.720000</td>\n",
       "      <td>1.000000</td>\n",
       "      <td>45.000000</td>\n",
       "    </tr>\n",
       "    <tr>\n",
       "      <th>75%</th>\n",
       "      <td>2.915218e+07</td>\n",
       "      <td>1.074344e+08</td>\n",
       "      <td>40.763115</td>\n",
       "      <td>-73.936275</td>\n",
       "      <td>175.000000</td>\n",
       "      <td>5.000000</td>\n",
       "      <td>24.000000</td>\n",
       "      <td>2.020000</td>\n",
       "      <td>2.000000</td>\n",
       "      <td>227.000000</td>\n",
       "    </tr>\n",
       "    <tr>\n",
       "      <th>max</th>\n",
       "      <td>3.648724e+07</td>\n",
       "      <td>2.743213e+08</td>\n",
       "      <td>40.913060</td>\n",
       "      <td>-73.712990</td>\n",
       "      <td>10000.000000</td>\n",
       "      <td>1250.000000</td>\n",
       "      <td>629.000000</td>\n",
       "      <td>58.500000</td>\n",
       "      <td>327.000000</td>\n",
       "      <td>365.000000</td>\n",
       "    </tr>\n",
       "  </tbody>\n",
       "</table>\n",
       "</div>"
      ],
      "text/plain": [
       "                 id       host_id      latitude     longitude         price  \\\n",
       "count  4.889500e+04  4.889500e+04  48895.000000  48895.000000  48895.000000   \n",
       "mean   1.901714e+07  6.762001e+07     40.728949    -73.952170    152.720687   \n",
       "std    1.098311e+07  7.861097e+07      0.054530      0.046157    240.154170   \n",
       "min    2.539000e+03  2.438000e+03     40.499790    -74.244420      0.000000   \n",
       "25%    9.471945e+06  7.822033e+06     40.690100    -73.983070     69.000000   \n",
       "50%    1.967728e+07  3.079382e+07     40.723070    -73.955680    106.000000   \n",
       "75%    2.915218e+07  1.074344e+08     40.763115    -73.936275    175.000000   \n",
       "max    3.648724e+07  2.743213e+08     40.913060    -73.712990  10000.000000   \n",
       "\n",
       "       minimum_nights  number_of_reviews  reviews_per_month  \\\n",
       "count    48895.000000       48895.000000       38843.000000   \n",
       "mean         7.029962          23.274466           1.373221   \n",
       "std         20.510550          44.550582           1.680442   \n",
       "min          1.000000           0.000000           0.010000   \n",
       "25%          1.000000           1.000000           0.190000   \n",
       "50%          3.000000           5.000000           0.720000   \n",
       "75%          5.000000          24.000000           2.020000   \n",
       "max       1250.000000         629.000000          58.500000   \n",
       "\n",
       "       calculated_host_listings_count  availability_365  \n",
       "count                    48895.000000      48895.000000  \n",
       "mean                         7.143982        112.781327  \n",
       "std                         32.952519        131.622289  \n",
       "min                          1.000000          0.000000  \n",
       "25%                          1.000000          0.000000  \n",
       "50%                          1.000000         45.000000  \n",
       "75%                          2.000000        227.000000  \n",
       "max                        327.000000        365.000000  "
      ]
     },
     "execution_count": 19,
     "metadata": {},
     "output_type": "execute_result"
    }
   ],
   "source": [
    "datasets={}\n",
    "data_df=pd.read_csv('https://raw.githubusercontent.com/4GeeksAcademy/data-preprocessing-project-tutorial/main/AB_NYC_2019.csv')\n",
    "data_df.describe()"
   ]
  },
  {
   "cell_type": "markdown",
   "metadata": {},
   "source": [
    "### 5.1. Clean hosts"
   ]
  },
  {
   "cell_type": "code",
   "execution_count": 20,
   "metadata": {},
   "outputs": [
    {
     "data": {
      "text/html": [
       "<div>\n",
       "<style scoped>\n",
       "    .dataframe tbody tr th:only-of-type {\n",
       "        vertical-align: middle;\n",
       "    }\n",
       "\n",
       "    .dataframe tbody tr th {\n",
       "        vertical-align: top;\n",
       "    }\n",
       "\n",
       "    .dataframe thead th {\n",
       "        text-align: right;\n",
       "    }\n",
       "</style>\n",
       "<table border=\"1\" class=\"dataframe\">\n",
       "  <thead>\n",
       "    <tr style=\"text-align: right;\">\n",
       "      <th></th>\n",
       "      <th>id</th>\n",
       "      <th>host_id</th>\n",
       "      <th>latitude</th>\n",
       "      <th>longitude</th>\n",
       "      <th>price</th>\n",
       "      <th>minimum_nights</th>\n",
       "      <th>number_of_reviews</th>\n",
       "      <th>reviews_per_month</th>\n",
       "      <th>calculated_host_listings_count</th>\n",
       "      <th>availability_365</th>\n",
       "    </tr>\n",
       "  </thead>\n",
       "  <tbody>\n",
       "    <tr>\n",
       "      <th>count</th>\n",
       "      <td>4.814000e+04</td>\n",
       "      <td>4.814000e+04</td>\n",
       "      <td>48140.000000</td>\n",
       "      <td>48140.00000</td>\n",
       "      <td>48140.000000</td>\n",
       "      <td>48140.000000</td>\n",
       "      <td>48140.000000</td>\n",
       "      <td>38494.000000</td>\n",
       "      <td>48140.000000</td>\n",
       "      <td>48140.000000</td>\n",
       "    </tr>\n",
       "    <tr>\n",
       "      <th>mean</th>\n",
       "      <td>1.884743e+07</td>\n",
       "      <td>6.648550e+07</td>\n",
       "      <td>40.728894</td>\n",
       "      <td>-73.95151</td>\n",
       "      <td>151.195430</td>\n",
       "      <td>6.779269</td>\n",
       "      <td>23.596386</td>\n",
       "      <td>1.371510</td>\n",
       "      <td>3.551600</td>\n",
       "      <td>110.215372</td>\n",
       "    </tr>\n",
       "    <tr>\n",
       "      <th>std</th>\n",
       "      <td>1.096050e+07</td>\n",
       "      <td>7.809557e+07</td>\n",
       "      <td>0.054870</td>\n",
       "      <td>0.04617</td>\n",
       "      <td>241.396545</td>\n",
       "      <td>20.493203</td>\n",
       "      <td>44.814217</td>\n",
       "      <td>1.652251</td>\n",
       "      <td>11.060121</td>\n",
       "      <td>130.574084</td>\n",
       "    </tr>\n",
       "    <tr>\n",
       "      <th>min</th>\n",
       "      <td>2.539000e+03</td>\n",
       "      <td>2.438000e+03</td>\n",
       "      <td>40.499790</td>\n",
       "      <td>-74.24442</td>\n",
       "      <td>0.000000</td>\n",
       "      <td>1.000000</td>\n",
       "      <td>0.000000</td>\n",
       "      <td>0.010000</td>\n",
       "      <td>1.000000</td>\n",
       "      <td>0.000000</td>\n",
       "    </tr>\n",
       "    <tr>\n",
       "      <th>25%</th>\n",
       "      <td>9.365101e+06</td>\n",
       "      <td>7.599467e+06</td>\n",
       "      <td>40.689667</td>\n",
       "      <td>-73.98239</td>\n",
       "      <td>69.000000</td>\n",
       "      <td>1.000000</td>\n",
       "      <td>1.000000</td>\n",
       "      <td>0.190000</td>\n",
       "      <td>1.000000</td>\n",
       "      <td>0.000000</td>\n",
       "    </tr>\n",
       "    <tr>\n",
       "      <th>50%</th>\n",
       "      <td>1.943935e+07</td>\n",
       "      <td>3.028359e+07</td>\n",
       "      <td>40.722955</td>\n",
       "      <td>-73.95517</td>\n",
       "      <td>104.000000</td>\n",
       "      <td>2.000000</td>\n",
       "      <td>5.000000</td>\n",
       "      <td>0.710000</td>\n",
       "      <td>1.000000</td>\n",
       "      <td>41.000000</td>\n",
       "    </tr>\n",
       "    <tr>\n",
       "      <th>75%</th>\n",
       "      <td>2.887456e+07</td>\n",
       "      <td>1.050638e+08</td>\n",
       "      <td>40.763452</td>\n",
       "      <td>-73.93561</td>\n",
       "      <td>175.000000</td>\n",
       "      <td>5.000000</td>\n",
       "      <td>24.000000</td>\n",
       "      <td>2.020000</td>\n",
       "      <td>2.000000</td>\n",
       "      <td>218.000000</td>\n",
       "    </tr>\n",
       "    <tr>\n",
       "      <th>max</th>\n",
       "      <td>3.648724e+07</td>\n",
       "      <td>2.743213e+08</td>\n",
       "      <td>40.913060</td>\n",
       "      <td>-73.71299</td>\n",
       "      <td>10000.000000</td>\n",
       "      <td>1250.000000</td>\n",
       "      <td>629.000000</td>\n",
       "      <td>20.940000</td>\n",
       "      <td>121.000000</td>\n",
       "      <td>365.000000</td>\n",
       "    </tr>\n",
       "  </tbody>\n",
       "</table>\n",
       "</div>"
      ],
      "text/plain": [
       "                 id       host_id      latitude    longitude         price  \\\n",
       "count  4.814000e+04  4.814000e+04  48140.000000  48140.00000  48140.000000   \n",
       "mean   1.884743e+07  6.648550e+07     40.728894    -73.95151    151.195430   \n",
       "std    1.096050e+07  7.809557e+07      0.054870      0.04617    241.396545   \n",
       "min    2.539000e+03  2.438000e+03     40.499790    -74.24442      0.000000   \n",
       "25%    9.365101e+06  7.599467e+06     40.689667    -73.98239     69.000000   \n",
       "50%    1.943935e+07  3.028359e+07     40.722955    -73.95517    104.000000   \n",
       "75%    2.887456e+07  1.050638e+08     40.763452    -73.93561    175.000000   \n",
       "max    3.648724e+07  2.743213e+08     40.913060    -73.71299  10000.000000   \n",
       "\n",
       "       minimum_nights  number_of_reviews  reviews_per_month  \\\n",
       "count    48140.000000       48140.000000       38494.000000   \n",
       "mean         6.779269          23.596386           1.371510   \n",
       "std         20.493203          44.814217           1.652251   \n",
       "min          1.000000           0.000000           0.010000   \n",
       "25%          1.000000           1.000000           0.190000   \n",
       "50%          2.000000           5.000000           0.710000   \n",
       "75%          5.000000          24.000000           2.020000   \n",
       "max       1250.000000         629.000000          20.940000   \n",
       "\n",
       "       calculated_host_listings_count  availability_365  \n",
       "count                    48140.000000      48140.000000  \n",
       "mean                         3.551600        110.215372  \n",
       "std                         11.060121        130.574084  \n",
       "min                          1.000000          0.000000  \n",
       "25%                          1.000000          0.000000  \n",
       "50%                          1.000000         41.000000  \n",
       "75%                          2.000000        218.000000  \n",
       "max                        121.000000        365.000000  "
      ]
     },
     "execution_count": 20,
     "metadata": {},
     "output_type": "execute_result"
    }
   ],
   "source": [
    "institutional_hosts=['Blueground','Sonder (NYC)','Sonder', 'Row NYC', 'Corporate Housing']\n",
    "\n",
    "hosts_cleaned_df=data_df.copy()\n",
    "hosts_cleaned_df=data_df[~data_df['host_name'].isin(institutional_hosts)]\n",
    "datasets['Hosts cleaned']=hosts_cleaned_df[numerical_features + categorical_features]\n",
    "\n",
    "hosts_cleaned_df.describe()"
   ]
  },
  {
   "cell_type": "markdown",
   "metadata": {},
   "source": [
    "### 5.2. Clip price"
   ]
  },
  {
   "cell_type": "code",
   "execution_count": 21,
   "metadata": {},
   "outputs": [
    {
     "data": {
      "text/html": [
       "<div>\n",
       "<style scoped>\n",
       "    .dataframe tbody tr th:only-of-type {\n",
       "        vertical-align: middle;\n",
       "    }\n",
       "\n",
       "    .dataframe tbody tr th {\n",
       "        vertical-align: top;\n",
       "    }\n",
       "\n",
       "    .dataframe thead th {\n",
       "        text-align: right;\n",
       "    }\n",
       "</style>\n",
       "<table border=\"1\" class=\"dataframe\">\n",
       "  <thead>\n",
       "    <tr style=\"text-align: right;\">\n",
       "      <th></th>\n",
       "      <th>id</th>\n",
       "      <th>host_id</th>\n",
       "      <th>latitude</th>\n",
       "      <th>longitude</th>\n",
       "      <th>price</th>\n",
       "      <th>minimum_nights</th>\n",
       "      <th>number_of_reviews</th>\n",
       "      <th>reviews_per_month</th>\n",
       "      <th>calculated_host_listings_count</th>\n",
       "      <th>availability_365</th>\n",
       "    </tr>\n",
       "  </thead>\n",
       "  <tbody>\n",
       "    <tr>\n",
       "      <th>count</th>\n",
       "      <td>4.889500e+04</td>\n",
       "      <td>4.889500e+04</td>\n",
       "      <td>48895.000000</td>\n",
       "      <td>48895.000000</td>\n",
       "      <td>48895.000000</td>\n",
       "      <td>48895.000000</td>\n",
       "      <td>48895.000000</td>\n",
       "      <td>38843.000000</td>\n",
       "      <td>48895.000000</td>\n",
       "      <td>48895.000000</td>\n",
       "    </tr>\n",
       "    <tr>\n",
       "      <th>mean</th>\n",
       "      <td>1.901714e+07</td>\n",
       "      <td>6.762001e+07</td>\n",
       "      <td>40.728949</td>\n",
       "      <td>-73.952170</td>\n",
       "      <td>151.610778</td>\n",
       "      <td>7.029962</td>\n",
       "      <td>23.274466</td>\n",
       "      <td>1.373221</td>\n",
       "      <td>7.143982</td>\n",
       "      <td>112.781327</td>\n",
       "    </tr>\n",
       "    <tr>\n",
       "      <th>std</th>\n",
       "      <td>1.098311e+07</td>\n",
       "      <td>7.861097e+07</td>\n",
       "      <td>0.054530</td>\n",
       "      <td>0.046157</td>\n",
       "      <td>206.682511</td>\n",
       "      <td>20.510550</td>\n",
       "      <td>44.550582</td>\n",
       "      <td>1.680442</td>\n",
       "      <td>32.952519</td>\n",
       "      <td>131.622289</td>\n",
       "    </tr>\n",
       "    <tr>\n",
       "      <th>min</th>\n",
       "      <td>2.539000e+03</td>\n",
       "      <td>2.438000e+03</td>\n",
       "      <td>40.499790</td>\n",
       "      <td>-74.244420</td>\n",
       "      <td>0.000000</td>\n",
       "      <td>1.000000</td>\n",
       "      <td>0.000000</td>\n",
       "      <td>0.010000</td>\n",
       "      <td>1.000000</td>\n",
       "      <td>0.000000</td>\n",
       "    </tr>\n",
       "    <tr>\n",
       "      <th>25%</th>\n",
       "      <td>9.471945e+06</td>\n",
       "      <td>7.822033e+06</td>\n",
       "      <td>40.690100</td>\n",
       "      <td>-73.983070</td>\n",
       "      <td>69.000000</td>\n",
       "      <td>1.000000</td>\n",
       "      <td>1.000000</td>\n",
       "      <td>0.190000</td>\n",
       "      <td>1.000000</td>\n",
       "      <td>0.000000</td>\n",
       "    </tr>\n",
       "    <tr>\n",
       "      <th>50%</th>\n",
       "      <td>1.967728e+07</td>\n",
       "      <td>3.079382e+07</td>\n",
       "      <td>40.723070</td>\n",
       "      <td>-73.955680</td>\n",
       "      <td>106.000000</td>\n",
       "      <td>3.000000</td>\n",
       "      <td>5.000000</td>\n",
       "      <td>0.720000</td>\n",
       "      <td>1.000000</td>\n",
       "      <td>45.000000</td>\n",
       "    </tr>\n",
       "    <tr>\n",
       "      <th>75%</th>\n",
       "      <td>2.915218e+07</td>\n",
       "      <td>1.074344e+08</td>\n",
       "      <td>40.763115</td>\n",
       "      <td>-73.936275</td>\n",
       "      <td>175.000000</td>\n",
       "      <td>5.000000</td>\n",
       "      <td>24.000000</td>\n",
       "      <td>2.020000</td>\n",
       "      <td>2.000000</td>\n",
       "      <td>227.000000</td>\n",
       "    </tr>\n",
       "    <tr>\n",
       "      <th>max</th>\n",
       "      <td>3.648724e+07</td>\n",
       "      <td>2.743213e+08</td>\n",
       "      <td>40.913060</td>\n",
       "      <td>-73.712990</td>\n",
       "      <td>5000.000000</td>\n",
       "      <td>1250.000000</td>\n",
       "      <td>629.000000</td>\n",
       "      <td>58.500000</td>\n",
       "      <td>327.000000</td>\n",
       "      <td>365.000000</td>\n",
       "    </tr>\n",
       "  </tbody>\n",
       "</table>\n",
       "</div>"
      ],
      "text/plain": [
       "                 id       host_id      latitude     longitude         price  \\\n",
       "count  4.889500e+04  4.889500e+04  48895.000000  48895.000000  48895.000000   \n",
       "mean   1.901714e+07  6.762001e+07     40.728949    -73.952170    151.610778   \n",
       "std    1.098311e+07  7.861097e+07      0.054530      0.046157    206.682511   \n",
       "min    2.539000e+03  2.438000e+03     40.499790    -74.244420      0.000000   \n",
       "25%    9.471945e+06  7.822033e+06     40.690100    -73.983070     69.000000   \n",
       "50%    1.967728e+07  3.079382e+07     40.723070    -73.955680    106.000000   \n",
       "75%    2.915218e+07  1.074344e+08     40.763115    -73.936275    175.000000   \n",
       "max    3.648724e+07  2.743213e+08     40.913060    -73.712990   5000.000000   \n",
       "\n",
       "       minimum_nights  number_of_reviews  reviews_per_month  \\\n",
       "count    48895.000000       48895.000000       38843.000000   \n",
       "mean         7.029962          23.274466           1.373221   \n",
       "std         20.510550          44.550582           1.680442   \n",
       "min          1.000000           0.000000           0.010000   \n",
       "25%          1.000000           1.000000           0.190000   \n",
       "50%          3.000000           5.000000           0.720000   \n",
       "75%          5.000000          24.000000           2.020000   \n",
       "max       1250.000000         629.000000          58.500000   \n",
       "\n",
       "       calculated_host_listings_count  availability_365  \n",
       "count                    48895.000000      48895.000000  \n",
       "mean                         7.143982        112.781327  \n",
       "std                         32.952519        131.622289  \n",
       "min                          1.000000          0.000000  \n",
       "25%                          1.000000          0.000000  \n",
       "50%                          1.000000         45.000000  \n",
       "75%                          2.000000        227.000000  \n",
       "max                        327.000000        365.000000  "
      ]
     },
     "execution_count": 21,
     "metadata": {},
     "output_type": "execute_result"
    }
   ],
   "source": [
    "price_clipped_df=data_df.copy()\n",
    "price_clipped_df['price']=price_clipped_df['price'].clip(upper=5000)\n",
    "datasets['Price clipped']=price_clipped_df[numerical_features + categorical_features]\n",
    "price_clipped_df.describe()"
   ]
  },
  {
   "cell_type": "markdown",
   "metadata": {},
   "source": [
    "### 5.3. Clip price and clean hosts"
   ]
  },
  {
   "cell_type": "code",
   "execution_count": 22,
   "metadata": {},
   "outputs": [
    {
     "data": {
      "text/html": [
       "<div>\n",
       "<style scoped>\n",
       "    .dataframe tbody tr th:only-of-type {\n",
       "        vertical-align: middle;\n",
       "    }\n",
       "\n",
       "    .dataframe tbody tr th {\n",
       "        vertical-align: top;\n",
       "    }\n",
       "\n",
       "    .dataframe thead th {\n",
       "        text-align: right;\n",
       "    }\n",
       "</style>\n",
       "<table border=\"1\" class=\"dataframe\">\n",
       "  <thead>\n",
       "    <tr style=\"text-align: right;\">\n",
       "      <th></th>\n",
       "      <th>id</th>\n",
       "      <th>host_id</th>\n",
       "      <th>latitude</th>\n",
       "      <th>longitude</th>\n",
       "      <th>price</th>\n",
       "      <th>minimum_nights</th>\n",
       "      <th>number_of_reviews</th>\n",
       "      <th>reviews_per_month</th>\n",
       "      <th>calculated_host_listings_count</th>\n",
       "      <th>availability_365</th>\n",
       "    </tr>\n",
       "  </thead>\n",
       "  <tbody>\n",
       "    <tr>\n",
       "      <th>count</th>\n",
       "      <td>4.814000e+04</td>\n",
       "      <td>4.814000e+04</td>\n",
       "      <td>48140.000000</td>\n",
       "      <td>48140.00000</td>\n",
       "      <td>48140.000000</td>\n",
       "      <td>48140.000000</td>\n",
       "      <td>48140.000000</td>\n",
       "      <td>38494.000000</td>\n",
       "      <td>48140.000000</td>\n",
       "      <td>48140.000000</td>\n",
       "    </tr>\n",
       "    <tr>\n",
       "      <th>mean</th>\n",
       "      <td>1.884743e+07</td>\n",
       "      <td>6.648550e+07</td>\n",
       "      <td>40.728894</td>\n",
       "      <td>-73.95151</td>\n",
       "      <td>150.068114</td>\n",
       "      <td>6.779269</td>\n",
       "      <td>23.596386</td>\n",
       "      <td>1.371510</td>\n",
       "      <td>3.551600</td>\n",
       "      <td>110.215372</td>\n",
       "    </tr>\n",
       "    <tr>\n",
       "      <th>std</th>\n",
       "      <td>1.096050e+07</td>\n",
       "      <td>7.809557e+07</td>\n",
       "      <td>0.054870</td>\n",
       "      <td>0.04617</td>\n",
       "      <td>207.552153</td>\n",
       "      <td>20.493203</td>\n",
       "      <td>44.814217</td>\n",
       "      <td>1.652251</td>\n",
       "      <td>11.060121</td>\n",
       "      <td>130.574084</td>\n",
       "    </tr>\n",
       "    <tr>\n",
       "      <th>min</th>\n",
       "      <td>2.539000e+03</td>\n",
       "      <td>2.438000e+03</td>\n",
       "      <td>40.499790</td>\n",
       "      <td>-74.24442</td>\n",
       "      <td>0.000000</td>\n",
       "      <td>1.000000</td>\n",
       "      <td>0.000000</td>\n",
       "      <td>0.010000</td>\n",
       "      <td>1.000000</td>\n",
       "      <td>0.000000</td>\n",
       "    </tr>\n",
       "    <tr>\n",
       "      <th>25%</th>\n",
       "      <td>9.365101e+06</td>\n",
       "      <td>7.599467e+06</td>\n",
       "      <td>40.689667</td>\n",
       "      <td>-73.98239</td>\n",
       "      <td>69.000000</td>\n",
       "      <td>1.000000</td>\n",
       "      <td>1.000000</td>\n",
       "      <td>0.190000</td>\n",
       "      <td>1.000000</td>\n",
       "      <td>0.000000</td>\n",
       "    </tr>\n",
       "    <tr>\n",
       "      <th>50%</th>\n",
       "      <td>1.943935e+07</td>\n",
       "      <td>3.028359e+07</td>\n",
       "      <td>40.722955</td>\n",
       "      <td>-73.95517</td>\n",
       "      <td>104.000000</td>\n",
       "      <td>2.000000</td>\n",
       "      <td>5.000000</td>\n",
       "      <td>0.710000</td>\n",
       "      <td>1.000000</td>\n",
       "      <td>41.000000</td>\n",
       "    </tr>\n",
       "    <tr>\n",
       "      <th>75%</th>\n",
       "      <td>2.887456e+07</td>\n",
       "      <td>1.050638e+08</td>\n",
       "      <td>40.763452</td>\n",
       "      <td>-73.93561</td>\n",
       "      <td>175.000000</td>\n",
       "      <td>5.000000</td>\n",
       "      <td>24.000000</td>\n",
       "      <td>2.020000</td>\n",
       "      <td>2.000000</td>\n",
       "      <td>218.000000</td>\n",
       "    </tr>\n",
       "    <tr>\n",
       "      <th>max</th>\n",
       "      <td>3.648724e+07</td>\n",
       "      <td>2.743213e+08</td>\n",
       "      <td>40.913060</td>\n",
       "      <td>-73.71299</td>\n",
       "      <td>5000.000000</td>\n",
       "      <td>1250.000000</td>\n",
       "      <td>629.000000</td>\n",
       "      <td>20.940000</td>\n",
       "      <td>121.000000</td>\n",
       "      <td>365.000000</td>\n",
       "    </tr>\n",
       "  </tbody>\n",
       "</table>\n",
       "</div>"
      ],
      "text/plain": [
       "                 id       host_id      latitude    longitude         price  \\\n",
       "count  4.814000e+04  4.814000e+04  48140.000000  48140.00000  48140.000000   \n",
       "mean   1.884743e+07  6.648550e+07     40.728894    -73.95151    150.068114   \n",
       "std    1.096050e+07  7.809557e+07      0.054870      0.04617    207.552153   \n",
       "min    2.539000e+03  2.438000e+03     40.499790    -74.24442      0.000000   \n",
       "25%    9.365101e+06  7.599467e+06     40.689667    -73.98239     69.000000   \n",
       "50%    1.943935e+07  3.028359e+07     40.722955    -73.95517    104.000000   \n",
       "75%    2.887456e+07  1.050638e+08     40.763452    -73.93561    175.000000   \n",
       "max    3.648724e+07  2.743213e+08     40.913060    -73.71299   5000.000000   \n",
       "\n",
       "       minimum_nights  number_of_reviews  reviews_per_month  \\\n",
       "count    48140.000000       48140.000000       38494.000000   \n",
       "mean         6.779269          23.596386           1.371510   \n",
       "std         20.493203          44.814217           1.652251   \n",
       "min          1.000000           0.000000           0.010000   \n",
       "25%          1.000000           1.000000           0.190000   \n",
       "50%          2.000000           5.000000           0.710000   \n",
       "75%          5.000000          24.000000           2.020000   \n",
       "max       1250.000000         629.000000          20.940000   \n",
       "\n",
       "       calculated_host_listings_count  availability_365  \n",
       "count                    48140.000000      48140.000000  \n",
       "mean                         3.551600        110.215372  \n",
       "std                         11.060121        130.574084  \n",
       "min                          1.000000          0.000000  \n",
       "25%                          1.000000          0.000000  \n",
       "50%                          1.000000         41.000000  \n",
       "75%                          2.000000        218.000000  \n",
       "max                        121.000000        365.000000  "
      ]
     },
     "execution_count": 22,
     "metadata": {},
     "output_type": "execute_result"
    }
   ],
   "source": [
    "price_clipped_host_cleaned_df=data_df.copy()\n",
    "price_clipped_host_cleaned_df['price']=price_clipped_host_cleaned_df['price'].clip(upper=5000)\n",
    "price_clipped_host_cleaned_df=price_clipped_host_cleaned_df[~price_clipped_host_cleaned_df['host_name'].isin(institutional_hosts)]\n",
    "datasets['Hosts cleaned, price clipped']=price_clipped_host_cleaned_df[numerical_features + categorical_features]\n",
    "price_clipped_host_cleaned_df.describe()"
   ]
  },
  {
   "cell_type": "markdown",
   "metadata": {},
   "source": [
    "### 5.4. Encode and impute cleaned datasets"
   ]
  },
  {
   "cell_type": "code",
   "execution_count": 23,
   "metadata": {},
   "outputs": [],
   "source": [
    "for dataset, data_df in datasets.items():\n",
    "    one_hot_encoder=OneHotEncoder(drop='first',sparse_output=False)\n",
    "    data=one_hot_encoder.fit_transform(data_df[categorical_features])\n",
    "    encoded_data_df=pd.DataFrame(data, columns=one_hot_encoder.get_feature_names_out())\n",
    "    data_df=pd.concat([encoded_data_df, data_df[numerical_features]], axis=1)\n",
    "\n",
    "    knn_imputer=KNNImputer()\n",
    "    data_df[numerical_features]=knn_imputer.fit_transform(data_df[numerical_features])\n",
    "    datasets[dataset]=data_df\n",
    "\n",
    "datasets['Raw']=nan_cleaned_datasets['KNN imputed']"
   ]
  },
  {
   "cell_type": "markdown",
   "metadata": {},
   "source": [
    "### 5.5. Results\n",
    "\n",
    "#### 5.5.1. Linear model"
   ]
  },
  {
   "cell_type": "code",
   "execution_count": 24,
   "metadata": {},
   "outputs": [
    {
     "name": "stdout",
     "output_type": "stream",
     "text": [
      "Kruskal-Wallis p-value: 0.000\n",
      "\n"
     ]
    }
   ],
   "source": [
    "linear_results_df=funcs.test_features(LinearRegression(), datasets, label, scoring='neg_root_mean_squared_error')\n",
    "\n",
    "data=[list(x) for _, x in linear_results_df.groupby('Feature set')['Score']]\n",
    "labels=[[x]*len(y) for x, y in linear_results_df.groupby('Feature set')['Score']]\n",
    "results=kruskal(*data)\n",
    "print(f'Kruskal-Wallis p-value: {results.pvalue:.3f}\\n')\n",
    "\n",
    "linear_result=pairwise_tukeyhsd(np.concatenate(data), np.concatenate(labels), alpha=0.05)"
   ]
  },
  {
   "cell_type": "markdown",
   "metadata": {},
   "source": [
    "#### 5.5.2. Tree model"
   ]
  },
  {
   "cell_type": "code",
   "execution_count": 25,
   "metadata": {},
   "outputs": [
    {
     "name": "stdout",
     "output_type": "stream",
     "text": [
      "Kruskal-Wallis p-value: 0.000\n",
      "\n"
     ]
    }
   ],
   "source": [
    "tree_results_df=funcs.test_features(HistGradientBoostingRegressor(random_state=315), datasets, label, scoring='neg_root_mean_squared_error')\n",
    "\n",
    "data=[list(x) for _, x in linear_results_df.groupby('Feature set')['Score']]\n",
    "labels=[[x]*len(y) for x, y in linear_results_df.groupby('Feature set')['Score']]\n",
    "results=kruskal(*data)\n",
    "print(f'Kruskal-Wallis p-value: {results.pvalue:.3f}\\n')\n",
    "\n",
    "tree_result=pairwise_tukeyhsd(np.concatenate(data), np.concatenate(labels), alpha=0.05)"
   ]
  },
  {
   "cell_type": "markdown",
   "metadata": {},
   "source": [
    "#### 5.5.3. Model comparison"
   ]
  },
  {
   "cell_type": "code",
   "execution_count": 26,
   "metadata": {},
   "outputs": [
    {
     "name": "stdout",
     "output_type": "stream",
     "text": [
      "Linear model:\n",
      "                       Multiple Comparison of Means - Tukey HSD, FWER=0.05                        \n",
      "==================================================================================================\n",
      "           group1                       group2            meandiff p-adj   lower    upper   reject\n",
      "--------------------------------------------------------------------------------------------------\n",
      "               Hosts cleaned Hosts cleaned, price clipped -33.4838    0.0 -47.2929 -19.6748   True\n",
      "               Hosts cleaned                Price clipped -40.0027    0.0 -53.8118 -26.1937   True\n",
      "               Hosts cleaned                          Raw  -3.8446 0.8866 -17.6537   9.9645  False\n",
      "Hosts cleaned, price clipped                Price clipped  -6.5189 0.6088  -20.328   7.2902  False\n",
      "Hosts cleaned, price clipped                          Raw  29.6392    0.0  15.8302  43.4483   True\n",
      "               Price clipped                          Raw  36.1581    0.0  22.3491  49.9672   True\n",
      "--------------------------------------------------------------------------------------------------\n",
      "\n",
      "Tree model:\n",
      "                       Multiple Comparison of Means - Tukey HSD, FWER=0.05                        \n",
      "==================================================================================================\n",
      "           group1                       group2            meandiff p-adj   lower    upper   reject\n",
      "--------------------------------------------------------------------------------------------------\n",
      "               Hosts cleaned Hosts cleaned, price clipped -33.4838    0.0 -47.2929 -19.6748   True\n",
      "               Hosts cleaned                Price clipped -40.0027    0.0 -53.8118 -26.1937   True\n",
      "               Hosts cleaned                          Raw  -3.8446 0.8866 -17.6537   9.9645  False\n",
      "Hosts cleaned, price clipped                Price clipped  -6.5189 0.6088  -20.328   7.2902  False\n",
      "Hosts cleaned, price clipped                          Raw  29.6392    0.0  15.8302  43.4483   True\n",
      "               Price clipped                          Raw  36.1581    0.0  22.3491  49.9672   True\n",
      "--------------------------------------------------------------------------------------------------\n"
     ]
    },
    {
     "data": {
      "image/png": "[encoded data removed]",
      "text/plain": [
       "<Figure size 1000x500 with 2 Axes>"
      ]
     },
     "metadata": {},
     "output_type": "display_data"
    }
   ],
   "source": [
    "print(f'Linear model:\\n{linear_result}\\n')\n",
    "print(f'Tree model:\\n{tree_result}')\n",
    "\n",
    "fig, axs=plt.subplots(1,2, figsize=(10,5), sharey=True)\n",
    "axs=axs.flatten()\n",
    "\n",
    "fig.suptitle('Extreme data cleaning methods')\n",
    "\n",
    "sns.boxplot(linear_results_df, x='Feature set', y='Score', ax=axs[0])\n",
    "axs[0].set_title('Linear model')\n",
    "axs[0].set_xlabel('')\n",
    "axs[0].tick_params(axis='x', labelrotation=45)\n",
    "axs[0].set_ylabel('Root mean squared error')\n",
    "\n",
    "sns.boxplot(tree_results_df, x='Feature set', y='Score', ax=axs[1])\n",
    "axs[1].set_title('Tree model')\n",
    "axs[1].set_xlabel('')\n",
    "axs[1].tick_params(axis='x', labelrotation=45)\n",
    "axs[1].set_ylabel('Root mean squared error')\n",
    "\n",
    "plt.tight_layout()\n",
    "plt.show()"
   ]
  },
  {
   "cell_type": "markdown",
   "metadata": {},
   "source": [
    "## 6. Save cleaned data"
   ]
  },
  {
   "cell_type": "code",
   "execution_count": 27,
   "metadata": {},
   "outputs": [],
   "source": [
    "datasets['Price clipped'].to_parquet('./data/processed/gperdrizet_cleaned_data.parquet')"
   ]
  }
 ],
 "metadata": {
  "kernelspec": {
   "display_name": ".venv",
   "language": "python",
   "name": "python3"
  },
  "language_info": {
   "codemirror_mode": {
    "name": "ipython",
    "version": 3
   },
   "file_extension": ".py",
   "mimetype": "text/x-python",
   "name": "python",
   "nbconvert_exporter": "python",
   "pygments_lexer": "ipython3",
   "version": "3.10.16"
  }
 },
 "nbformat": 4,
 "nbformat_minor": 2
}
