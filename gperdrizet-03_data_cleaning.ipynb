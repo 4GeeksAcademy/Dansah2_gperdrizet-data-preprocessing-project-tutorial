{
 "cells": [
  {
   "cell_type": "markdown",
   "metadata": {},
   "source": [
    "# AirBnB data cleaning\n",
    "\n",
    "## Notebook set-up\n",
    "\n",
    "Assume we are preparing this data for a linear regression model."
   ]
  },
  {
   "cell_type": "code",
   "execution_count": null,
   "metadata": {},
   "outputs": [],
   "source": []
  }
 ],
 "metadata": {
  "language_info": {
   "name": "python"
  }
 },
 "nbformat": 4,
 "nbformat_minor": 2
}
